{
 "cells": [
  {
   "cell_type": "markdown",
   "metadata": {},
   "source": [
    "# Handling Late Data and Watermarking\n",
    "\n",
    "Experience how late arrivals and output modes interleaves in windowed aggregation queries.\n",
    "\n",
    "**NOTE**: Run the other notebook first."
   ]
  },
  {
   "cell_type": "code",
   "execution_count": 1,
   "metadata": {
    "tags": []
   },
   "outputs": [
    {
     "data": {
      "text/html": [
       "\n",
       "            <div>\n",
       "                <p><b>SparkSession - in-memory</b></p>\n",
       "                \n",
       "        <div>\n",
       "            <p><b>SparkContext</b></p>\n",
       "\n",
       "            <p><a href=\"http://08dc2e4460a2:4040\">Spark UI</a></p>\n",
       "\n",
       "            <dl>\n",
       "              <dt>Version</dt>\n",
       "                <dd><code>v3.0.1</code></dd>\n",
       "              <dt>Master</dt>\n",
       "                <dd><code>local[*]</code></dd>\n",
       "              <dt>AppName</dt>\n",
       "                <dd><code>test</code></dd>\n",
       "            </dl>\n",
       "        </div>\n",
       "        \n",
       "            </div>\n",
       "        "
      ],
      "text/plain": [
       "<pyspark.sql.session.SparkSession at 0x7fc54f492430>"
      ]
     },
     "execution_count": 1,
     "metadata": {},
     "output_type": "execute_result"
    }
   ],
   "source": [
    "import os\n",
    "from pyspark.sql import SparkSession\n",
    "from pyspark.streaming import StreamingContext\n",
    "import io\n",
    "from pyspark.sql.functions import *\n",
    "import time\n",
    "import json\n",
    "import struct\n",
    "import requests \n",
    "\n",
    "os.environ['PYSPARK_SUBMIT_ARGS'] = '--packages org.apache.spark:spark-sql-kafka-0-10_2.12:3.0.1,org.apache.spark:spark-streaming-kafka-0-10_2.11:2.4.5,org.apache.kafka:kafka-clients:2.6.0 pyspark-shell'\n",
    "                                    \n",
    "spark = (SparkSession.builder \n",
    "    .master(\"local[*]\")\n",
    "    .appName(\"test\")\n",
    "    .getOrCreate()\n",
    "        )\n",
    "\n",
    "spark"
   ]
  },
  {
   "cell_type": "markdown",
   "metadata": {},
   "source": [
    "set up the environment variables"
   ]
  },
  {
   "cell_type": "code",
   "execution_count": 2,
   "metadata": {
    "tags": []
   },
   "outputs": [],
   "source": [
    "servers = \"kafka:9092\"\n",
    "topic = \"words\""
   ]
  },
  {
   "cell_type": "code",
   "execution_count": 3,
   "metadata": {
    "tags": []
   },
   "outputs": [],
   "source": [
    "from pyspark.sql.types import *\n",
    "\n",
    "schema = StructType([\n",
    "    StructField(\"word\", StringType(), True),\n",
    "    StructField(\"ts\", TimestampType(), True)])"
   ]
  },
  {
   "cell_type": "code",
   "execution_count": 4,
   "metadata": {
    "tags": []
   },
   "outputs": [],
   "source": [
    "raw_sdf = (spark\n",
    "  .readStream\n",
    "  .format(\"kafka\")\n",
    "  .option(\"kafka.bootstrap.servers\", servers)\n",
    "  .option(\"startingOffsets\", \"latest\")\n",
    "  .option(\"subscribe\", topic)\n",
    "  .load())"
   ]
  },
  {
   "cell_type": "code",
   "execution_count": 5,
   "metadata": {
    "tags": []
   },
   "outputs": [
    {
     "data": {
      "text/plain": [
       "True"
      ]
     },
     "execution_count": 5,
     "metadata": {},
     "output_type": "execute_result"
    }
   ],
   "source": [
    "raw_sdf.isStreaming"
   ]
  },
  {
   "cell_type": "code",
   "execution_count": 6,
   "metadata": {
    "tags": []
   },
   "outputs": [],
   "source": [
    "words=(raw_sdf.select(from_json(col(\"value\").cast(\"string\"), schema).alias(\"value\"))\n",
    "              .select(\"value.*\"))"
   ]
  },
  {
   "cell_type": "code",
   "execution_count": 7,
   "metadata": {
    "tags": []
   },
   "outputs": [
    {
     "name": "stdout",
     "output_type": "stream",
     "text": [
      "root\n",
      " |-- word: string (nullable = true)\n",
      " |-- ts: timestamp (nullable = true)\n",
      "\n"
     ]
    }
   ],
   "source": [
    "words.printSchema()"
   ]
  },
  {
   "cell_type": "code",
   "execution_count": 8,
   "metadata": {
    "tags": []
   },
   "outputs": [],
   "source": [
    "q_update=(words.withWatermark(\"ts\",\"10 minutes\").groupBy(window(words.ts, \"10 minutes\", \"5 minutes\"),words.word).count()\n",
    "   .writeStream\n",
    "   .format(\"memory\")\n",
    "   .outputMode(\"update\") \n",
    "   .queryName(\"sinkTable_update\")\n",
    "   .start())"
   ]
  },
  {
   "cell_type": "code",
   "execution_count": 9,
   "metadata": {
    "tags": []
   },
   "outputs": [],
   "source": [
    "q_append=(words.withWatermark(\"ts\",\"10 minutes\").groupBy(window(\"ts\", \"10 minutes\", \"5 minutes\"),words.word).count()\n",
    "   .writeStream\n",
    "   .format(\"memory\")\n",
    "   .outputMode(\"append\") \n",
    "   .queryName(\"sinkTable_append\")\n",
    "   .start())"
   ]
  },
  {
   "cell_type": "markdown",
   "metadata": {},
   "source": [
    "Go the the other notebook and run the cells in **Section 1)**"
   ]
  },
  {
   "cell_type": "code",
   "execution_count": 14,
   "metadata": {
    "tags": []
   },
   "outputs": [
    {
     "data": {
      "text/plain": [
       "{'message': 'Waiting for data to arrive',\n",
       " 'isDataAvailable': False,\n",
       " 'isTriggerActive': False}"
      ]
     },
     "execution_count": 14,
     "metadata": {},
     "output_type": "execute_result"
    }
   ],
   "source": [
    "q_update.status"
   ]
  },
  {
   "cell_type": "code",
   "execution_count": 15,
   "metadata": {
    "tags": []
   },
   "outputs": [
    {
     "data": {
      "text/plain": [
       "{'message': 'Waiting for data to arrive',\n",
       " 'isDataAvailable': False,\n",
       " 'isTriggerActive': False}"
      ]
     },
     "execution_count": 15,
     "metadata": {},
     "output_type": "execute_result"
    }
   ],
   "source": [
    "q_append.status"
   ]
  },
  {
   "cell_type": "code",
   "execution_count": 16,
   "metadata": {
    "tags": []
   },
   "outputs": [
    {
     "name": "stdout",
     "output_type": "stream",
     "text": [
      "+------------------------------------------+----+-----+\n",
      "|window                                    |word|count|\n",
      "+------------------------------------------+----+-----+\n",
      "|[2024-03-24 12:00:00, 2024-03-24 12:10:00]|dog |1    |\n",
      "|[2024-03-24 12:00:00, 2024-03-24 12:10:00]|owl |1    |\n",
      "|[2024-03-24 12:05:00, 2024-03-24 12:15:00]|dog |1    |\n",
      "|[2024-03-24 12:05:00, 2024-03-24 12:15:00]|owl |1    |\n",
      "+------------------------------------------+----+-----+\n",
      "\n"
     ]
    }
   ],
   "source": [
    "# look up the most recent results\n",
    "spark.sql(\"SELECT * FROM sinkTable_update ORDER BY window,word\").show(15,False) # without ORDER BY TS DESC because the result in the table is already only the most recent"
   ]
  },
  {
   "cell_type": "code",
   "execution_count": 17,
   "metadata": {
    "tags": []
   },
   "outputs": [
    {
     "name": "stdout",
     "output_type": "stream",
     "text": [
      "+------+----+-----+\n",
      "|window|word|count|\n",
      "+------+----+-----+\n",
      "+------+----+-----+\n",
      "\n"
     ]
    }
   ],
   "source": [
    "# look up the most recent results\n",
    "spark.sql(\"SELECT * FROM sinkTable_append ORDER BY window,word\").show(10,False) # without ORDER BY TS DESC because the result in the table is already only the most recent"
   ]
  },
  {
   "cell_type": "markdown",
   "metadata": {},
   "source": [
    "Go the the other notebook and run the cells in **Section 2)**"
   ]
  },
  {
   "cell_type": "code",
   "execution_count": 24,
   "metadata": {
    "tags": []
   },
   "outputs": [
    {
     "data": {
      "text/plain": [
       "{'message': 'Waiting for data to arrive',\n",
       " 'isDataAvailable': False,\n",
       " 'isTriggerActive': False}"
      ]
     },
     "execution_count": 24,
     "metadata": {},
     "output_type": "execute_result"
    }
   ],
   "source": [
    "q_update.status"
   ]
  },
  {
   "cell_type": "code",
   "execution_count": 21,
   "metadata": {
    "tags": []
   },
   "outputs": [
    {
     "data": {
      "text/plain": [
       "{'message': 'No new data but cleaning up state',\n",
       " 'isDataAvailable': False,\n",
       " 'isTriggerActive': True}"
      ]
     },
     "execution_count": 21,
     "metadata": {},
     "output_type": "execute_result"
    }
   ],
   "source": [
    "q_append.status"
   ]
  },
  {
   "cell_type": "code",
   "execution_count": 25,
   "metadata": {
    "tags": []
   },
   "outputs": [
    {
     "name": "stdout",
     "output_type": "stream",
     "text": [
      "+------------------------------------------+----+-----+\n",
      "|window                                    |word|count|\n",
      "+------------------------------------------+----+-----+\n",
      "|[2024-03-24 12:00:00, 2024-03-24 12:10:00]|cat |1    |\n",
      "|[2024-03-24 12:00:00, 2024-03-24 12:10:00]|dog |1    |\n",
      "|[2024-03-24 12:00:00, 2024-03-24 12:10:00]|owl |1    |\n",
      "|[2024-03-24 12:05:00, 2024-03-24 12:15:00]|cat |1    |\n",
      "|[2024-03-24 12:05:00, 2024-03-24 12:15:00]|dog |1    |\n",
      "|[2024-03-24 12:05:00, 2024-03-24 12:15:00]|dog |2    |\n",
      "|[2024-03-24 12:05:00, 2024-03-24 12:15:00]|owl |1    |\n",
      "|[2024-03-24 12:10:00, 2024-03-24 12:20:00]|dog |1    |\n",
      "+------------------------------------------+----+-----+\n",
      "\n"
     ]
    }
   ],
   "source": [
    "# look up the most recent results\n",
    "spark.sql(\"SELECT * FROM sinkTable_update ORDER BY window,word,count\").show(15,False) # without ORDER BY TS DESC because the result in the table is already only the most recent"
   ]
  },
  {
   "cell_type": "code",
   "execution_count": 27,
   "metadata": {
    "tags": []
   },
   "outputs": [
    {
     "name": "stdout",
     "output_type": "stream",
     "text": [
      "+------+----+-----+\n",
      "|window|word|count|\n",
      "+------+----+-----+\n",
      "+------+----+-----+\n",
      "\n"
     ]
    }
   ],
   "source": [
    "# look up the most recent results\n",
    "spark.sql(\"SELECT * FROM sinkTable_append ORDER BY window,word\").show(10,False) # without ORDER BY TS DESC because the result in the table is already only the most recent"
   ]
  },
  {
   "cell_type": "markdown",
   "metadata": {},
   "source": [
    "Go the the other notebook and run the cells in **Section 3)**"
   ]
  },
  {
   "cell_type": "code",
   "execution_count": 30,
   "metadata": {
    "tags": []
   },
   "outputs": [
    {
     "data": {
      "text/plain": [
       "{'message': 'Getting offsets from KafkaV2[Subscribe[words]]',\n",
       " 'isDataAvailable': False,\n",
       " 'isTriggerActive': True}"
      ]
     },
     "execution_count": 30,
     "metadata": {},
     "output_type": "execute_result"
    }
   ],
   "source": [
    "q_update.status"
   ]
  },
  {
   "cell_type": "code",
   "execution_count": 31,
   "metadata": {
    "tags": []
   },
   "outputs": [
    {
     "data": {
      "text/plain": [
       "{'message': 'Waiting for data to arrive',\n",
       " 'isDataAvailable': False,\n",
       " 'isTriggerActive': False}"
      ]
     },
     "execution_count": 31,
     "metadata": {},
     "output_type": "execute_result"
    }
   ],
   "source": [
    "q_append.status"
   ]
  },
  {
   "cell_type": "code",
   "execution_count": 32,
   "metadata": {
    "tags": []
   },
   "outputs": [
    {
     "name": "stdout",
     "output_type": "stream",
     "text": [
      "+------------------------------------------+----+-----+\n",
      "|window                                    |word|count|\n",
      "+------------------------------------------+----+-----+\n",
      "|[2024-03-24 12:00:00, 2024-03-24 12:10:00]|cat |1    |\n",
      "|[2024-03-24 12:00:00, 2024-03-24 12:10:00]|dog |1    |\n",
      "|[2024-03-24 12:00:00, 2024-03-24 12:10:00]|dog |2    |\n",
      "|[2024-03-24 12:00:00, 2024-03-24 12:10:00]|owl |1    |\n",
      "|[2024-03-24 12:05:00, 2024-03-24 12:15:00]|cat |1    |\n",
      "|[2024-03-24 12:05:00, 2024-03-24 12:15:00]|dog |1    |\n",
      "|[2024-03-24 12:05:00, 2024-03-24 12:15:00]|dog |2    |\n",
      "|[2024-03-24 12:05:00, 2024-03-24 12:15:00]|dog |3    |\n",
      "|[2024-03-24 12:05:00, 2024-03-24 12:15:00]|owl |1    |\n",
      "|[2024-03-24 12:05:00, 2024-03-24 12:15:00]|owl |2    |\n",
      "|[2024-03-24 12:10:00, 2024-03-24 12:20:00]|cat |1    |\n",
      "|[2024-03-24 12:10:00, 2024-03-24 12:20:00]|dog |1    |\n",
      "|[2024-03-24 12:10:00, 2024-03-24 12:20:00]|owl |1    |\n",
      "|[2024-03-24 12:15:00, 2024-03-24 12:25:00]|cat |1    |\n",
      "+------------------------------------------+----+-----+\n",
      "\n"
     ]
    }
   ],
   "source": [
    "# look up the most recent results\n",
    "spark.sql(\"SELECT * FROM sinkTable_update ORDER BY window,word,count\").show(15,False) # without ORDER BY TS DESC because the result in the table is already only the most recent"
   ]
  },
  {
   "cell_type": "code",
   "execution_count": 33,
   "metadata": {
    "tags": []
   },
   "outputs": [
    {
     "name": "stdout",
     "output_type": "stream",
     "text": [
      "+------+----+-----+\n",
      "|window|word|count|\n",
      "+------+----+-----+\n",
      "+------+----+-----+\n",
      "\n"
     ]
    }
   ],
   "source": [
    "# look up the most recent results\n",
    "spark.sql(\"SELECT * FROM sinkTable_append ORDER BY window,word\").show(10,False) # without ORDER BY TS DESC because the result in the table is already only the most recent"
   ]
  },
  {
   "cell_type": "markdown",
   "metadata": {
    "tags": []
   },
   "source": [
    "Go the the other notebook and run the cells in **Section 4)**"
   ]
  },
  {
   "cell_type": "code",
   "execution_count": 37,
   "metadata": {
    "tags": []
   },
   "outputs": [
    {
     "data": {
      "text/plain": [
       "{'message': 'Waiting for data to arrive',\n",
       " 'isDataAvailable': False,\n",
       " 'isTriggerActive': False}"
      ]
     },
     "execution_count": 37,
     "metadata": {},
     "output_type": "execute_result"
    }
   ],
   "source": [
    "q_update.status"
   ]
  },
  {
   "cell_type": "code",
   "execution_count": 38,
   "metadata": {
    "tags": []
   },
   "outputs": [
    {
     "data": {
      "text/plain": [
       "{'message': 'Waiting for data to arrive',\n",
       " 'isDataAvailable': False,\n",
       " 'isTriggerActive': False}"
      ]
     },
     "execution_count": 38,
     "metadata": {},
     "output_type": "execute_result"
    }
   ],
   "source": [
    "q_append.status"
   ]
  },
  {
   "cell_type": "code",
   "execution_count": 39,
   "metadata": {
    "tags": []
   },
   "outputs": [
    {
     "name": "stdout",
     "output_type": "stream",
     "text": [
      "+------------------------------------------+------+-----+\n",
      "|window                                    |word  |count|\n",
      "+------------------------------------------+------+-----+\n",
      "|[2024-03-24 11:55:00, 2024-03-24 12:05:00]|donkey|1    |\n",
      "|[2024-03-24 12:00:00, 2024-03-24 12:10:00]|cat   |1    |\n",
      "|[2024-03-24 12:00:00, 2024-03-24 12:10:00]|dog   |1    |\n",
      "|[2024-03-24 12:00:00, 2024-03-24 12:10:00]|dog   |2    |\n",
      "|[2024-03-24 12:00:00, 2024-03-24 12:10:00]|donkey|1    |\n",
      "|[2024-03-24 12:00:00, 2024-03-24 12:10:00]|owl   |1    |\n",
      "|[2024-03-24 12:05:00, 2024-03-24 12:15:00]|cat   |1    |\n",
      "|[2024-03-24 12:05:00, 2024-03-24 12:15:00]|dog   |1    |\n",
      "|[2024-03-24 12:05:00, 2024-03-24 12:15:00]|dog   |2    |\n",
      "|[2024-03-24 12:05:00, 2024-03-24 12:15:00]|dog   |3    |\n",
      "|[2024-03-24 12:05:00, 2024-03-24 12:15:00]|owl   |1    |\n",
      "|[2024-03-24 12:05:00, 2024-03-24 12:15:00]|owl   |2    |\n",
      "|[2024-03-24 12:10:00, 2024-03-24 12:20:00]|cat   |1    |\n",
      "|[2024-03-24 12:10:00, 2024-03-24 12:20:00]|dog   |1    |\n",
      "|[2024-03-24 12:10:00, 2024-03-24 12:20:00]|owl   |1    |\n",
      "+------------------------------------------+------+-----+\n",
      "only showing top 15 rows\n",
      "\n"
     ]
    }
   ],
   "source": [
    "# look up the most recent results\n",
    "spark.sql(\"SELECT * FROM sinkTable_update ORDER BY window,word,count\").show(15,False) # without ORDER BY TS DESC because the result in the table is already only the most recent"
   ]
  },
  {
   "cell_type": "code",
   "execution_count": 40,
   "metadata": {
    "tags": []
   },
   "outputs": [
    {
     "name": "stdout",
     "output_type": "stream",
     "text": [
      "+------------------------------------------+----+-----+\n",
      "|window                                    |word|count|\n",
      "+------------------------------------------+----+-----+\n",
      "|[2024-03-24 12:00:00, 2024-03-24 12:10:00]|cat |1    |\n",
      "|[2024-03-24 12:00:00, 2024-03-24 12:10:00]|dog |2    |\n",
      "|[2024-03-24 12:00:00, 2024-03-24 12:10:00]|owl |1    |\n",
      "|[2024-03-24 12:05:00, 2024-03-24 12:15:00]|cat |1    |\n",
      "|[2024-03-24 12:05:00, 2024-03-24 12:15:00]|dog |3    |\n",
      "|[2024-03-24 12:05:00, 2024-03-24 12:15:00]|owl |2    |\n",
      "+------------------------------------------+----+-----+\n",
      "\n"
     ]
    }
   ],
   "source": [
    "# look up the most recent results\n",
    "spark.sql(\"SELECT * FROM sinkTable_append ORDER BY window,word\").show(10,False) # without ORDER BY TS DESC because the result in the table is already only the most recent"
   ]
  },
  {
   "cell_type": "markdown",
   "metadata": {},
   "source": [
    "Too late, or not?\n",
    "\n",
    "https://spark.apache.org/docs/latest/structured-streaming-programming-guide.html#semantic-guarantees-of-aggregation-with-watermarking"
   ]
  }
 ],
 "metadata": {
  "kernelspec": {
   "display_name": "Python 3",
   "language": "python",
   "name": "python3"
  },
  "language_info": {
   "codemirror_mode": {
    "name": "ipython",
    "version": 3
   },
   "file_extension": ".py",
   "mimetype": "text/x-python",
   "name": "python",
   "nbconvert_exporter": "python",
   "pygments_lexer": "ipython3",
   "version": "3.8.6"
  }
 },
 "nbformat": 4,
 "nbformat_minor": 4
}
