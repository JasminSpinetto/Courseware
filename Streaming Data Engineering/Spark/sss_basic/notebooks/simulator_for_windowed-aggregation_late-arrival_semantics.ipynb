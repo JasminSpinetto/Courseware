{
 "cells": [
  {
   "cell_type": "markdown",
   "metadata": {},
   "source": [
    "# Simulator for Demonstrating Handling Late Data and Watermarking\n",
    "\n",
    "This notebook allows to experience how late arrivals and output modes interleaves in windowed aggregation queries.\n",
    "\n",
    "**NOTE**: Run the early part of this notebook, first!"
   ]
  },
  {
   "cell_type": "code",
   "execution_count": 1,
   "metadata": {},
   "outputs": [
    {
     "name": "stdout",
     "output_type": "stream",
     "text": [
      "Collecting confluent-kafka==1.7.0\n",
      "  Downloading confluent_kafka-1.7.0-cp38-cp38-manylinux2010_x86_64.whl (2.7 MB)\n",
      "\u001b[K     |████████████████████████████████| 2.7 MB 3.9 MB/s eta 0:00:01\n",
      "\u001b[?25hInstalling collected packages: confluent-kafka\n",
      "Successfully installed confluent-kafka-1.7.0\n"
     ]
    }
   ],
   "source": [
    "!pip install confluent-kafka==1.7.0"
   ]
  },
  {
   "cell_type": "code",
   "execution_count": 2,
   "metadata": {
    "tags": []
   },
   "outputs": [],
   "source": [
    "from confluent_kafka.admin import AdminClient, NewTopic, NewPartitions\n",
    "from confluent_kafka import KafkaException\n",
    "import sys\n",
    "from uuid import uuid4"
   ]
  },
  {
   "cell_type": "code",
   "execution_count": 3,
   "metadata": {
    "tags": []
   },
   "outputs": [],
   "source": [
    "bootstrap_server = \"kafka:9092\" # Brokers act as cluster entripoints"
   ]
  },
  {
   "cell_type": "code",
   "execution_count": 4,
   "metadata": {
    "tags": []
   },
   "outputs": [],
   "source": [
    "conf = {'bootstrap.servers': bootstrap_server}"
   ]
  },
  {
   "cell_type": "code",
   "execution_count": 5,
   "metadata": {
    "tags": []
   },
   "outputs": [],
   "source": [
    "a = AdminClient(conf)"
   ]
  },
  {
   "cell_type": "code",
   "execution_count": 6,
   "metadata": {
    "tags": []
   },
   "outputs": [
    {
     "name": "stdout",
     "output_type": "stream",
     "text": [
      " 1 topics:\n",
      "  \"_schemas\" with 1 partition(s)\n"
     ]
    }
   ],
   "source": [
    "md = a.list_topics(timeout=10)\n",
    "print(\" {} topics:\".format(len(md.topics)))\n",
    "for t in iter(md.topics.values()):\n",
    "    if t.error is not None:\n",
    "        errstr = \": {}\".format(t.error)\n",
    "    else:\n",
    "        errstr = \"\"\n",
    "    print(\"  \\\"{}\\\" with {} partition(s){}\".format(t, len(t.partitions), errstr))"
   ]
  },
  {
   "cell_type": "code",
   "execution_count": 7,
   "metadata": {
    "tags": []
   },
   "outputs": [],
   "source": [
    "from confluent_kafka import SerializingProducer\n",
    "from confluent_kafka.serialization import *\n",
    "import time\n",
    "\n",
    "topic = \"words\"\n",
    "\n",
    "def delivery_report(err, msg):\n",
    "    if err is not None:\n",
    "        print(\"Failed to deliver message: {}\".format(err))\n",
    "    else:\n",
    "        print(\"Produced record to topic {} partition [{}] @ offset {}\"\n",
    "              .format(msg.topic(), msg.partition(), msg.offset()))"
   ]
  },
  {
   "cell_type": "code",
   "execution_count": 8,
   "metadata": {
    "tags": []
   },
   "outputs": [],
   "source": [
    "producer_conf = {\n",
    "        'bootstrap.servers': bootstrap_server,\n",
    "        'key.serializer': StringSerializer('utf_8'),\n",
    "        'value.serializer': StringSerializer('utf_8')\n",
    "}\n",
    "\n",
    "producer = SerializingProducer(producer_conf)"
   ]
  },
  {
   "cell_type": "markdown",
   "metadata": {},
   "source": [
    "## 1) send 12:07-12:08"
   ]
  },
  {
   "cell_type": "code",
   "execution_count": 9,
   "metadata": {
    "tags": []
   },
   "outputs": [
    {
     "name": "stdout",
     "output_type": "stream",
     "text": [
      "{'word': 'dog', 'ts': '2024-03-24T12:07:00'}\n",
      "Produced record to topic words partition [0] @ offset 0\n",
      "{'word': 'owl', 'ts': '2024-03-24T12:08:00'}\n",
      "Produced record to topic words partition [0] @ offset 1\n"
     ]
    },
    {
     "data": {
      "text/plain": [
       "1"
      ]
     },
     "execution_count": 9,
     "metadata": {},
     "output_type": "execute_result"
    }
   ],
   "source": [
    "import json\n",
    "from random import gauss\n",
    "from IPython.display import clear_output\n",
    "\n",
    "key = None\n",
    "value = {\"word\": \"dog\",\"ts\":\"2024-03-24T12:07:00\"}\n",
    "producer.produce(topic=topic, value=json.dumps(value), key=key, on_delivery=delivery_report)\n",
    "print(value)\n",
    "producer.poll(1)\n",
    "\n",
    "value = {\"word\": \"owl\",\"ts\":\"2024-03-24T12:08:00\"}\n",
    "producer.produce(topic=topic, value=json.dumps(value), key=key, on_delivery=delivery_report)\n",
    "print(value)\n",
    "producer.poll(1)"
   ]
  },
  {
   "cell_type": "markdown",
   "metadata": {
    "tags": []
   },
   "source": [
    "## 2) send 12:14 and late arrival 12:09"
   ]
  },
  {
   "cell_type": "code",
   "execution_count": 10,
   "metadata": {
    "tags": []
   },
   "outputs": [
    {
     "name": "stdout",
     "output_type": "stream",
     "text": [
      "{'word': 'dog', 'ts': '2024-03-24T12:14:00'}\n",
      "Produced record to topic words partition [0] @ offset 2\n",
      "{'word': 'cat', 'ts': '2024-03-24T12:09:00'}\n",
      "Produced record to topic words partition [0] @ offset 3\n"
     ]
    },
    {
     "data": {
      "text/plain": [
       "1"
      ]
     },
     "execution_count": 10,
     "metadata": {},
     "output_type": "execute_result"
    }
   ],
   "source": [
    "value = {\"word\": \"dog\",\"ts\":\"2024-03-24T12:14:00\"}\n",
    "producer.produce(topic=topic, value=json.dumps(value), key=key, on_delivery=delivery_report)\n",
    "print(value)\n",
    "producer.poll(1)\n",
    "\n",
    "value = {\"word\": \"cat\",\"ts\":\"2024-03-24T12:09:00\"}\n",
    "producer.produce(topic=topic, value=json.dumps(value), key=key, on_delivery=delivery_report)\n",
    "print(value)\n",
    "producer.poll(1)"
   ]
  },
  {
   "cell_type": "markdown",
   "metadata": {
    "tags": []
   },
   "source": [
    "## 3) send 12:15 and late arrivals 12:08 and 12:13"
   ]
  },
  {
   "cell_type": "code",
   "execution_count": 11,
   "metadata": {
    "tags": []
   },
   "outputs": [
    {
     "name": "stdout",
     "output_type": "stream",
     "text": [
      "{'word': 'cat', 'ts': '2024-03-24T12:15:00'}\n",
      "Produced record to topic words partition [0] @ offset 4\n",
      "{'word': 'dog', 'ts': '2024-03-24T12:08:00'}\n",
      "Produced record to topic words partition [0] @ offset 5\n",
      "{'word': 'owl', 'ts': '2024-03-24T12:13:00'}\n",
      "Produced record to topic words partition [0] @ offset 6\n"
     ]
    },
    {
     "data": {
      "text/plain": [
       "1"
      ]
     },
     "execution_count": 11,
     "metadata": {},
     "output_type": "execute_result"
    }
   ],
   "source": [
    "key = None\n",
    "value = {\"word\": \"cat\",\"ts\":\"2024-03-24T12:15:00\"}\n",
    "producer.produce(topic=topic, value=json.dumps(value), key=key, on_delivery=delivery_report)\n",
    "print(value)\n",
    "producer.poll(1)\n",
    "value = {\"word\": \"dog\",\"ts\":\"2024-03-24T12:08:00\"}\n",
    "producer.produce(topic=topic, value=json.dumps(value), key=key, on_delivery=delivery_report)\n",
    "print(value)\n",
    "producer.poll(1)\n",
    "value = {\"word\": \"owl\",\"ts\":\"2024-03-24T12:13:00\"}\n",
    "producer.produce(topic=topic, value=json.dumps(value), key=key, on_delivery=delivery_report)\n",
    "print(value)\n",
    "producer.poll(1)"
   ]
  },
  {
   "cell_type": "markdown",
   "metadata": {
    "tags": []
   },
   "source": [
    "## 4) send 12:26, a late arrival 12:17, and too late arrival 12:04"
   ]
  },
  {
   "cell_type": "code",
   "execution_count": 12,
   "metadata": {
    "tags": []
   },
   "outputs": [
    {
     "name": "stdout",
     "output_type": "stream",
     "text": [
      "{'word': 'owl', 'ts': '2024-03-24T12:26:00'}\n",
      "Produced record to topic words partition [0] @ offset 7\n",
      "{'word': 'owl', 'ts': '2024-03-24T12:17:00'}\n",
      "Produced record to topic words partition [0] @ offset 8\n",
      "{'word': 'donkey', 'ts': '2024-03-24T12:04:00'}\n",
      "Produced record to topic words partition [0] @ offset 9\n"
     ]
    },
    {
     "data": {
      "text/plain": [
       "1"
      ]
     },
     "execution_count": 12,
     "metadata": {},
     "output_type": "execute_result"
    }
   ],
   "source": [
    "value = {\"word\": \"owl\",\"ts\":\"2024-03-24T12:26:00\"}\n",
    "producer.produce(topic=topic, value=json.dumps(value), key=key, on_delivery=delivery_report)\n",
    "print(value)\n",
    "producer.poll(1)\n",
    "value = {\"word\": \"owl\",\"ts\":\"2024-03-24T12:17:00\"}\n",
    "producer.produce(topic=topic, value=json.dumps(value), key=key, on_delivery=delivery_report)\n",
    "print(value)\n",
    "producer.poll(1)\n",
    "value = {\"word\": \"donkey\",\"ts\":\"2024-03-24T12:04:00\"}\n",
    "producer.produce(topic=topic, value=json.dumps(value), key=key, on_delivery=delivery_report)\n",
    "print(value)\n",
    "producer.poll(1)"
   ]
  },
  {
   "cell_type": "markdown",
   "metadata": {},
   "source": [
    "Remember to clean up!"
   ]
  },
  {
   "cell_type": "code",
   "execution_count": null,
   "metadata": {
    "tags": []
   },
   "outputs": [],
   "source": [
    "# delete topic\n",
    "ds = a.delete_topics([topic], operation_timeout=30)\n",
    "for t, f in ds.items():\n",
    "    try:\n",
    "        f.result()  # The result itself is None\n",
    "        print(\"Topic {} deleted\".format(t))\n",
    "    except Exception as e:\n",
    "        print(\"Failed to delete topic {}: {}\".format(t, e))"
   ]
  }
 ],
 "metadata": {
  "kernelspec": {
   "display_name": "Python 3",
   "language": "python",
   "name": "python3"
  },
  "language_info": {
   "codemirror_mode": {
    "name": "ipython",
    "version": 3
   },
   "file_extension": ".py",
   "mimetype": "text/x-python",
   "name": "python",
   "nbconvert_exporter": "python",
   "pygments_lexer": "ipython3",
   "version": "3.8.6"
  }
 },
 "nbformat": 4,
 "nbformat_minor": 4
}
