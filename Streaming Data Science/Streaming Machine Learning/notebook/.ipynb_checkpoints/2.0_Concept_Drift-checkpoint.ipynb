{
 "cells": [
  {
   "cell_type": "code",
   "execution_count": null,
   "metadata": {},
   "outputs": [],
   "source": [
    "import numpy as np\n",
    "from bokeh.plotting import figure, output_file, show\n",
    "from bokeh.io import output_notebook\n",
    "from bokeh.layouts import gridplot\n",
    "from bokeh.palettes import Pastel1\n",
    "from bokeh.models import Span"
   ]
  },
  {
   "cell_type": "code",
   "execution_count": null,
   "metadata": {},
   "outputs": [],
   "source": [
    "def plot_data(dist_a, dist_b, dist_c, drifts=None, warnings=None):\n",
    "    output_notebook()\n",
    "    color_0 = Pastel1[3][0]\n",
    "    color_1 = Pastel1[3][1]\n",
    "    color_2 = Pastel1[3][2]\n",
    "\n",
    "    left = figure(plot_width=900, plot_height=400,\n",
    "                  tools=\"pan,box_zoom,reset,save\",\n",
    "                  title=\"drift stream\",\n",
    "                  x_axis_label='samples', y_axis_label='value',\n",
    "                  background_fill_color=\"#fafafa\"\n",
    "                  )\n",
    "    # add some renderers\n",
    "    left.circle(range(1000), dist_a, legend_label=r\"dist_a\",\n",
    "                fill_color=color_0, line_color=color_0, size=4)    \n",
    "    left.circle(range(1000, 2000, 1), dist_b, legend_label=r\"dist_b\",\n",
    "                fill_color=color_1, line_color=color_1, size=4)\n",
    "    left.circle(range(2000, 3000, 1), dist_c, legend_label=r\"dist_c\",\n",
    "                fill_color=color_2, line_color=color_2, size=4)\n",
    "\n",
    "    '''\n",
    "    right = figure(plot_width=300, plot_height=400,\n",
    "                   tools=\"pan,box_zoom,reset,save\",\n",
    "                   title=\"distributions\",\n",
    "                   background_fill_color=\"#fafafa\"\n",
    "                   )\n",
    "    hist, edges = np.histogram(dist_a, density=False, bins=10)\n",
    "    right.quad(top=hist, bottom=0, left=edges[:-1], right=edges[1:],\n",
    "               fill_color=color_0, line_color=color_0, legend_label='dist_a')\n",
    "    hist, edges = np.histogram(dist_b, density=False, bins=10)\n",
    "    right.quad(top=hist, bottom=0, left=edges[:-1], right=edges[1:],\n",
    "                   fill_color=color_1, line_color=color_1, legend_label='dist_b')\n",
    "    hist, edges = np.histogram(dist_c, density=False, bins=10)\n",
    "    right.quad(top=hist, bottom=0, left=edges[:-1], right=edges[1:],\n",
    "                   fill_color=color_2, line_color=color_2, legend_label='dist_c')\n",
    "    '''\n",
    "    \n",
    "    if drifts is not None:\n",
    "        for drift_loc in drifts:\n",
    "            drift_line = Span(location=drift_loc, dimension='height',\n",
    "                              line_color='red', line_width=2)\n",
    "            left.add_layout(drift_line)\n",
    "    \n",
    "    if warnings is not None:\n",
    "        for warning_loc in warnings:\n",
    "            warning_line = Span(location=warning_loc, dimension='height',\n",
    "                              line_color='blue', line_width=2,line_dash='dashed')\n",
    "            left.add_layout(warning_line)\n",
    "    \n",
    "    #p = gridplot([[left, right]])\n",
    "    #p = gridplot([left])\n",
    "    show(left)"
   ]
  },
  {
   "cell_type": "code",
   "execution_count": null,
   "metadata": {},
   "outputs": [],
   "source": [
    "np.random.seed(42)\n",
    "\n",
    "dist_a1 = np.zeros((500,), dtype=int)\n",
    "dist_a2 = np.ones((100,), dtype=int)\n",
    "dist_a3 = np.zeros((100,), dtype=int)\n",
    "dist_a4 = np.ones((300,), dtype=int)\n",
    "dist_a = np.concatenate((dist_a1, dist_a2, dist_a3, dist_a4))\n",
    "dist_b = np.zeros((1000,), dtype=int)\n",
    "dist_c = np.ones((1000,), dtype=int)\n",
    "\n",
    "data_stream = np.concatenate((dist_a, dist_b, dist_c))"
   ]
  },
  {
   "cell_type": "code",
   "execution_count": null,
   "metadata": {
    "scrolled": false
   },
   "outputs": [],
   "source": [
    "plot_data(dist_a,dist_b,dist_c)"
   ]
  },
  {
   "cell_type": "markdown",
   "metadata": {},
   "source": [
    "As observed above, the data stream has **5 drifts**.\n",
    "\n",
    "The goal is to detect that drift has occurred after samples **500**, **600**, **700**, **1000**, and **2000**"
   ]
  },
  {
   "cell_type": "markdown",
   "metadata": {},
   "source": [
    "## ADWIN\n",
    "---\n",
    "In this example, we will use the [ADaptive WINdowing (`ADWIN`)](https://riverml.xyz/0.10.1/api/drift/ADWIN/) drift detection method."
   ]
  },
  {
   "cell_type": "code",
   "execution_count": null,
   "metadata": {},
   "outputs": [],
   "source": [
    "from river.drift import ADWIN\n",
    "\n",
    "drift_detector = ADWIN()\n",
    "drifts = []\n",
    "warnings = []\n",
    "warning = -1\n",
    "\n",
    "for i, val in enumerate(data_stream):\n",
    "    drift_detector.update(val)           # Data is processed one sample at a time\n",
    "    if drift_detector.warning_detected:\n",
    "        warning = i\n",
    "    if drift_detector.change_detected:\n",
    "        if warning != -1:\n",
    "            print(f'Warning detected at index {warning} and Change detected at index {i}')\n",
    "            warnings.append(warning)\n",
    "            warning = -1\n",
    "        else: \n",
    "            print(f'Change detected at index {i}')\n",
    "        drifts.append(i)\n",
    "        drift_detector.reset()           # As a best practice, we reset the detector"
   ]
  },
  {
   "cell_type": "code",
   "execution_count": null,
   "metadata": {},
   "outputs": [],
   "source": [
    "plot_data(dist_a,dist_b,dist_c,drifts,warnings)"
   ]
  },
  {
   "cell_type": "markdown",
   "metadata": {},
   "source": [
    "## Page Hinkley\n",
    "---\n",
    "In this example, we will use the [Page Hinkley](https://riverml.xyz/0.10.1/api/drift/PageHinkley/) drift detection method. This change detection method works by computing the observed values and their mean up to the current moment. Page-Hinkley does not signal warning zones, only change detections. The method works by means of the Page-Hinkley test. In general lines it will detect a concept drift if the observed mean at some instant is greater then a threshold value lambda."
   ]
  },
  {
   "cell_type": "code",
   "execution_count": null,
   "metadata": {},
   "outputs": [],
   "source": [
    "from river.drift import PageHinkley\n",
    "\n",
    "drift_detector = PageHinkley()\n",
    "drifts = []\n",
    "warnings = []\n",
    "warning = -1\n",
    "\n",
    "for i, val in enumerate(data_stream):\n",
    "    drift_detector.update(val)           # Data is processed one sample at a time\n",
    "    if drift_detector.warning_detected:\n",
    "        warning = i\n",
    "    if drift_detector.change_detected:\n",
    "        if warning != -1:\n",
    "            print(f'Warning detected at index {warning} and Change detected at index {i}')\n",
    "            warnings.append(warning)\n",
    "            warning = -1\n",
    "        else: \n",
    "            print(f'Change detected at index {i}')\n",
    "        drifts.append(i)\n",
    "        drift_detector.reset()           # As a best practice, we reset the detector"
   ]
  },
  {
   "cell_type": "code",
   "execution_count": null,
   "metadata": {},
   "outputs": [],
   "source": [
    "plot_data(dist_a,dist_b,dist_c,drifts,warnings)"
   ]
  },
  {
   "cell_type": "markdown",
   "metadata": {},
   "source": [
    "## DDM\n",
    "---\n",
    "In this example, we will use the [DDM](https://riverml.xyz/0.10.1/api/drift/DDM/) drift detection method. It is based on the PAC learning model premise, that the learner's error rate will decrease as the number of analysed samples increase, as long as the data distribution is stationary.\n",
    "\n",
    "If the algorithm detects an increase in the error rate, that surpasses a calculated threshold, either change is detected or the algorithm will warn the user that change may occur in the near future, which is called the warning zone."
   ]
  },
  {
   "cell_type": "code",
   "execution_count": null,
   "metadata": {},
   "outputs": [],
   "source": [
    "from river.drift import DDM\n",
    "\n",
    "drift_detector = DDM()\n",
    "drifts = []\n",
    "warnings = []\n",
    "warning = -1\n",
    "\n",
    "for i, val in enumerate(data_stream):\n",
    "    drift_detector.update(val)           # Data is processed one sample at a time\n",
    "    if drift_detector.warning_detected:\n",
    "        warning = i\n",
    "    if drift_detector.change_detected:\n",
    "        if warning != -1:\n",
    "            print(f'Warning detected at index {warning} and Change detected at index {i}')\n",
    "            warnings.append(warning)\n",
    "            warning = -1\n",
    "        else: \n",
    "            print(f'Change detected at index {i}')\n",
    "        drifts.append(i)\n",
    "        drift_detector.reset()             # As a best practice, we reset the detector"
   ]
  },
  {
   "cell_type": "code",
   "execution_count": null,
   "metadata": {},
   "outputs": [],
   "source": [
    "plot_data(dist_a,dist_b,dist_c,drifts,warnings)"
   ]
  },
  {
   "cell_type": "markdown",
   "metadata": {},
   "source": [
    "## EDDM\n",
    "---\n",
    "In this example, we will use the [EDDM](https://riverml.xyz/0.10.1/api/drift/EDDM/) drift detection method. It works by keeping track of the average distance between two errors instead of only the error rate. For this, it is necessary to keep track of the running average distance and the running standard deviation, as well as the maximum distance and the maximum standard deviation."
   ]
  },
  {
   "cell_type": "code",
   "execution_count": null,
   "metadata": {},
   "outputs": [],
   "source": [
    "from river.drift import EDDM\n",
    "\n",
    "drift_detector = EDDM()\n",
    "drifts = []\n",
    "warnings = []\n",
    "warning = -1\n",
    "\n",
    "for i, val in enumerate(data_stream):\n",
    "    drift_detector.update(val)           # Data is processed one sample at a time\n",
    "    if drift_detector.warning_detected:\n",
    "        warning = i\n",
    "    if drift_detector.change_detected:\n",
    "        if warning != -1:\n",
    "            print(f'Warning detected at index {warning} and Change detected at index {i}')\n",
    "            warnings.append(warning)\n",
    "            warning = -1\n",
    "        else: \n",
    "            print(f'Change detected at index {i}')\n",
    "        drifts.append(i)\n",
    "        drift_detector.reset()          # As a best practice, we reset the detector"
   ]
  },
  {
   "cell_type": "code",
   "execution_count": null,
   "metadata": {},
   "outputs": [],
   "source": [
    "plot_data(dist_a,dist_b,dist_c,drifts,warnings)"
   ]
  },
  {
   "cell_type": "markdown",
   "metadata": {},
   "source": [
    "## CUSUM\n",
    "---\n",
    "It gives an alarm when the mean of the input data is significantly different from zero.\n",
    "- $g_0 = 0$\n",
    "- $\\hat{x}$ update\n",
    "- $sum_t = max(0,sum_{t-1}+(x_t - \\hat{x}) - \\delta)$\n",
    "- $n += 1$\n",
    "- if $n > min_{obs}$ and $sum_t > \\lambda:$ Change\n",
    "\n",
    "Use $\\delta=0.005$, $\\lambda=50$, and $min_{obs}=30$"
   ]
  },
  {
   "cell_type": "code",
   "execution_count": null,
   "metadata": {},
   "outputs": [],
   "source": [
    "class CUSUM():\n",
    "    def __init__(self,delta,lamb,min_obs):\n",
    "        # Initialization\n",
    "        self._n = 1\n",
    "        self._x_mean = 0.0\n",
    "        self._sum = 0.0\n",
    "        self._delta = delta\n",
    "        self._lambda = lamb\n",
    "        self._min_obs = min_obs\n",
    "        self.warning_detected = False\n",
    "        self.change_detected = False\n",
    "        \n",
    "    def update(self,value):\n",
    "        self._x_mean += (value - self._x_mean) / self._n\n",
    "        self._sum = max(0,self._sum + value - self._x_mean - self._delta)\n",
    "        self._n += 1\n",
    "        \n",
    "        if self._n >= self._min_obs and self._sum > self._lambda:\n",
    "            self.change_detected = True\n",
    "        \n",
    "        \n",
    "    def reset(self):\n",
    "        self._n = 1\n",
    "        self._x_mean = 0.0\n",
    "        self._sum = 0.0\n",
    "        self.warning_detected = False\n",
    "        self.change_detected = False"
   ]
  },
  {
   "cell_type": "code",
   "execution_count": null,
   "metadata": {},
   "outputs": [],
   "source": [
    "drift_detector = CUSUM(delta=0.005,lamb=50,min_obs=30)\n",
    "drifts = []\n",
    "warnings = []\n",
    "warning = -1\n",
    "\n",
    "for i, val in enumerate(data_stream):\n",
    "    drift_detector.update(val)           # Data is processed one sample at a time\n",
    "    if drift_detector.warning_detected:\n",
    "        warning = i\n",
    "    if drift_detector.change_detected:\n",
    "        if warning != -1:\n",
    "            print(f'Warning detected at index {warning} and Change detected at index {i}')\n",
    "            warnings.append(warning)\n",
    "            warning = -1\n",
    "        else: \n",
    "            print(f'Change detected at index {i}')\n",
    "        drifts.append(i)\n",
    "        drift_detector.reset()          # As a best practice, we reset the detector"
   ]
  },
  {
   "cell_type": "code",
   "execution_count": null,
   "metadata": {},
   "outputs": [],
   "source": [
    "plot_data(dist_a,dist_b,dist_c,drifts,warnings)"
   ]
  }
 ],
 "metadata": {
  "kernelspec": {
   "display_name": "Python 3 (ipykernel)",
   "language": "python",
   "name": "python3"
  },
  "language_info": {
   "codemirror_mode": {
    "name": "ipython",
    "version": 3
   },
   "file_extension": ".py",
   "mimetype": "text/x-python",
   "name": "python",
   "nbconvert_exporter": "python",
   "pygments_lexer": "ipython3",
   "version": "3.11.3"
  }
 },
 "nbformat": 4,
 "nbformat_minor": 4
}
