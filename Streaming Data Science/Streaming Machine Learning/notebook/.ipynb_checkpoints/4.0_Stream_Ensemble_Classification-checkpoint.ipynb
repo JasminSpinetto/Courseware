{
 "cells": [
  {
   "cell_type": "markdown",
   "metadata": {},
   "source": [
    "# Stream Ensemble Classification\n",
    "---\n",
    "\n",
    "## `NEWeather` dataset\n",
    "\n",
    "**Description:** The National Oceanic and Atmospheric Administration (NOAA),\n",
    "has compiled a database of weather measurements from over 7,000 weather \n",
    "stations worldwide. Records date back to the mid-1900s. Daily measurements\n",
    "include a variety of features (temperature, pressure, wind speed, etc.) as\n",
    "well as a series of indicators for precipitation and other weather-related\n",
    "events. The `NEweather` dataset contains data from this database, specifically\n",
    "from the Offutt Air Force Base in Bellevue, Nebraska ranging for over 50 years\n",
    "(1949-1999).\n",
    "\n",
    "**Features:** 8 Daily weather measurements\n",
    " \n",
    "|       Attribute      | Description |\n",
    "|:--------------------:|:-----------------------------|\n",
    "| `temp`                   | Temperature\n",
    "| `dew_pnt`                | Dew Point\n",
    "| `sea_lvl_press`          | Sea Level Pressure\n",
    "| `visibility`             | Visibility\n",
    "| `avg_wind_spd`           | Average Wind Speed\n",
    "| `max_sustained_wind_spd` | Maximum Sustained Wind Speed\n",
    "| `max_temp`               | Maximum Temperature\n",
    "| `min_temp`               | Minimum Temperature\n",
    "\n",
    "\n",
    "**Class:** `rain` | 0: no rain, 1: rain\n",
    " \n",
    "**Samples:** 18,159\n"
   ]
  },
  {
   "cell_type": "code",
   "execution_count": 1,
   "metadata": {},
   "outputs": [],
   "source": [
    "import pandas as pd\n",
    "from river.stream import iter_pandas\n",
    "from river.metrics import Metrics,Accuracy,BalancedAccuracy,CohenKappa,GeometricMean,Rolling\n",
    "from river.evaluate import progressive_val_score"
   ]
  },
  {
   "cell_type": "code",
   "execution_count": 2,
   "metadata": {},
   "outputs": [],
   "source": [
    "data = pd.read_csv(\"../datasets/NEweather.csv\")\n",
    "features = data.columns[:-1]"
   ]
  },
  {
   "cell_type": "markdown",
   "metadata": {},
   "source": [
    "## Online Bagging\n",
    "\n",
    "---\n",
    "[Online Bagging](https://riverml.xyz/0.10.1/api/ensemble/BaggingClassifier/) is an Online bootstrap aggregation for classification."
   ]
  },
  {
   "cell_type": "code",
   "execution_count": null,
   "metadata": {
    "scrolled": true
   },
   "outputs": [],
   "source": [
    "from river.ensemble import BaggingClassifier\n",
    "from river.tree import HoeffdingTreeClassifier\n",
    "\n",
    "model = BaggingClassifier(model=HoeffdingTreeClassifier(),\n",
    "                          n_models=10,\n",
    "                          seed=42)\n",
    "metrics = Metrics(metrics=[Accuracy(),BalancedAccuracy(),GeometricMean(),CohenKappa()])\n",
    "stream = iter_pandas(X=data[features], y=data['rain'])\n",
    "\n",
    "progressive_val_score(dataset=stream,\n",
    "                      model=model,\n",
    "                      metric=metrics,\n",
    "                      print_every=1000)"
   ]
  },
  {
   "cell_type": "markdown",
   "metadata": {},
   "source": [
    "## Leveraging Bagging\n",
    "---\n",
    "\n",
    "[Leveraging Bagging](https://riverml.xyz/0.10.1/api/ensemble/LeveragingBaggingClassifier/) is an improvement over the Oza Bagging algorithm. The bagging performance is leveraged by increasing the re-sampling. It uses a poisson distribution to simulate the re-sampling process. To increase re-sampling it uses a higher w value of the Poisson distribution (agerage number of events), 6 by default, increasing the input space diversity, by attributing a different range of weights to the data samples.\n",
    "\n",
    "To deal with concept drift, Leveraging Bagging uses the ADWIN algorithm to monitor the performance of each member of the enemble If concept drift is detected, the worst member of the ensemble (based on the error estimation by ADWIN) is replaced by a new (empty) classifier."
   ]
  },
  {
   "cell_type": "code",
   "execution_count": null,
   "metadata": {},
   "outputs": [],
   "source": [
    "from river.ensemble import LeveragingBaggingClassifier\n",
    "from river.tree import HoeffdingTreeClassifier\n",
    "\n",
    "model = LeveragingBaggingClassifier(model=HoeffdingTreeClassifier(),\n",
    "                          n_models=10,\n",
    "                          seed=42)\n",
    "metrics = Metrics(metrics=[Accuracy(),BalancedAccuracy(),GeometricMean(),CohenKappa()])\n",
    "stream = iter_pandas(X=data[features], y=data['rain'])\n",
    "\n",
    "progressive_val_score(dataset=stream,\n",
    "                      model=model,\n",
    "                      metric=metrics,\n",
    "                      print_every=1000)"
   ]
  },
  {
   "cell_type": "markdown",
   "metadata": {},
   "source": [
    "## AdaptiveRandomForest\n",
    "---\n",
    "\n",
    "\n",
    "\n",
    "The 3 most important aspects of [ARF](https://riverml.xyz/0.10.1/api/ensemble/AdaptiveRandomForestClassifier/) are:\n",
    "- inducing diversity through re-sampling\n",
    "- inducing diversity through randomly selecting subsets of features for node splits\n",
    "- drift detectors per base tree, which cause selective resets in response to drifts\n",
    "\n",
    "It also allows training background trees, which start training if a warning is detected and replace the active tree if the warning escalates to a drift."
   ]
  },
  {
   "cell_type": "code",
   "execution_count": 3,
   "metadata": {},
   "outputs": [
    {
     "name": "stdout",
     "output_type": "stream",
     "text": [
      "[1,000] Accuracy: 75.38%, BalancedAccuracy: 66.46%, GeometricMean: 61.31%, CohenKappa: 37.02%\n",
      "[2,000] Accuracy: 77.09%, BalancedAccuracy: 66.93%, GeometricMean: 61.94%, CohenKappa: 38.28%\n",
      "[3,000] Accuracy: 78.53%, BalancedAccuracy: 67.75%, GeometricMean: 62.76%, CohenKappa: 40.46%\n",
      "[4,000] Accuracy: 78.19%, BalancedAccuracy: 67.61%, GeometricMean: 62.48%, CohenKappa: 40.19%\n",
      "[5,000] Accuracy: 78.10%, BalancedAccuracy: 67.93%, GeometricMean: 63.14%, CohenKappa: 40.62%\n",
      "[6,000] Accuracy: 77.96%, BalancedAccuracy: 68.42%, GeometricMean: 64.19%, CohenKappa: 41.17%\n",
      "[7,000] Accuracy: 78.50%, BalancedAccuracy: 69.27%, GeometricMean: 65.45%, CohenKappa: 42.79%\n",
      "[8,000] Accuracy: 78.33%, BalancedAccuracy: 69.37%, GeometricMean: 65.66%, CohenKappa: 42.86%\n",
      "[9,000] Accuracy: 78.25%, BalancedAccuracy: 69.21%, GeometricMean: 65.35%, CohenKappa: 42.67%\n",
      "[10,000] Accuracy: 78.44%, BalancedAccuracy: 69.37%, GeometricMean: 65.54%, CohenKappa: 43.02%\n",
      "[11,000] Accuracy: 78.63%, BalancedAccuracy: 69.47%, GeometricMean: 65.71%, CohenKappa: 43.21%\n",
      "[12,000] Accuracy: 78.71%, BalancedAccuracy: 69.49%, GeometricMean: 65.80%, CohenKappa: 43.17%\n",
      "[13,000] Accuracy: 78.60%, BalancedAccuracy: 69.60%, GeometricMean: 65.98%, CohenKappa: 43.33%\n",
      "[14,000] Accuracy: 78.43%, BalancedAccuracy: 69.77%, GeometricMean: 66.19%, CohenKappa: 43.67%\n",
      "[15,000] Accuracy: 78.61%, BalancedAccuracy: 70.00%, GeometricMean: 66.46%, CohenKappa: 44.19%\n",
      "[16,000] Accuracy: 78.59%, BalancedAccuracy: 70.44%, GeometricMean: 67.08%, CohenKappa: 44.96%\n",
      "[17,000] Accuracy: 78.59%, BalancedAccuracy: 70.67%, GeometricMean: 67.48%, CohenKappa: 45.29%\n",
      "[18,000] Accuracy: 78.25%, BalancedAccuracy: 70.91%, GeometricMean: 68.09%, CohenKappa: 45.33%\n"
     ]
    },
    {
     "data": {
      "text/plain": [
       "Accuracy: 78.25%, BalancedAccuracy: 70.89%, GeometricMean: 68.08%, CohenKappa: 45.27%"
      ]
     },
     "execution_count": 3,
     "metadata": {},
     "output_type": "execute_result"
    }
   ],
   "source": [
    "from river.ensemble import AdaptiveRandomForestClassifier\n",
    "\n",
    "model = AdaptiveRandomForestClassifier(n_models=10)\n",
    "metrics = Metrics(metrics=[Accuracy(),BalancedAccuracy(),GeometricMean(),CohenKappa()])\n",
    "stream = iter_pandas(X=data[features], y=data['rain'])\n",
    "\n",
    "progressive_val_score(dataset=stream,\n",
    "                      model=model,\n",
    "                      metric=metrics,\n",
    "                      print_every=1000)"
   ]
  },
  {
   "cell_type": "code",
   "execution_count": 12,
   "metadata": {},
   "outputs": [],
   "source": [
    "import pickle\n",
    "\n",
    "#save\n",
    "with open('/Users/alessiobernardo/Downloads/ai_model.pkl', 'wb') as f:\n",
    "    pickle.dump(model, f)"
   ]
  },
  {
   "cell_type": "code",
   "execution_count": 13,
   "metadata": {},
   "outputs": [],
   "source": [
    "#load\n",
    "with open('/Users/alessiobernardo/Downloads/ai_model.pkl', 'rb') as f:\n",
    "    model_loaded = pickle.load(f)"
   ]
  },
  {
   "cell_type": "code",
   "execution_count": 14,
   "metadata": {},
   "outputs": [
    {
     "name": "stdout",
     "output_type": "stream",
     "text": [
      "[1] Accuracy: 78.25%, BalancedAccuracy: 70.89%, GeometricMean: 68.09%, CohenKappa: 45.27%\n",
      "[2] Accuracy: 78.25%, BalancedAccuracy: 70.89%, GeometricMean: 68.09%, CohenKappa: 45.28%\n",
      "[3] Accuracy: 78.25%, BalancedAccuracy: 70.90%, GeometricMean: 68.09%, CohenKappa: 45.28%\n",
      "[4] Accuracy: 78.25%, BalancedAccuracy: 70.89%, GeometricMean: 68.09%, CohenKappa: 45.28%\n",
      "[5] Accuracy: 78.25%, BalancedAccuracy: 70.89%, GeometricMean: 68.09%, CohenKappa: 45.28%\n"
     ]
    },
    {
     "data": {
      "text/plain": [
       "Accuracy: 78.25%, BalancedAccuracy: 70.89%, GeometricMean: 68.09%, CohenKappa: 45.28%"
      ]
     },
     "execution_count": 14,
     "metadata": {},
     "output_type": "execute_result"
    }
   ],
   "source": [
    "s = iter_pandas(X=data[features][:5], y=data['rain'][:5])\n",
    "progressive_val_score(dataset=s,\n",
    "                      model=model_loaded,\n",
    "                      metric=metrics,\n",
    "                      print_every=1)"
   ]
  },
  {
   "cell_type": "markdown",
   "metadata": {},
   "source": [
    "## StreamingRandomPatches\n",
    "---\n",
    "[SRP](https://riverml.xyz/0.10.1/api/ensemble/SRPClassifier/) is an ensemble method that simulates bagging or random subspaces. The default algorithm uses both bagging and random subspaces, namely Random Patches. The default base estimator is a Hoeffding Tree, but other base estimators can be used (differently from random forest variations)."
   ]
  },
  {
   "cell_type": "code",
   "execution_count": null,
   "metadata": {},
   "outputs": [],
   "source": [
    "from river.ensemble import SRPClassifier\n",
    "from river.tree import HoeffdingTreeClassifier\n",
    "\n",
    "model = SRPClassifier(model=HoeffdingTreeClassifier(),\n",
    "                      n_models=10,\n",
    "                      seed=42)\n",
    "metrics = Metrics(metrics=[Accuracy(),BalancedAccuracy(),GeometricMean(),CohenKappa()])\n",
    "stream = iter_pandas(X=data[features], y=data['rain'])\n",
    "\n",
    "progressive_val_score(dataset=stream, \n",
    "                      model=model, \n",
    "                      metric=metrics, \n",
    "                      print_every=1000)"
   ]
  },
  {
   "cell_type": "markdown",
   "metadata": {},
   "source": [
    "## Concept Drift Impact\n",
    "\n",
    "Concept drift can negatively impact learning methods if not properly handled. Multiple real-world applications suffer **model degradation** as the models can not adapt to changes in the data.\n",
    "\n",
    "---\n",
    "## `AGRAWAL` dataset\n",
    "\n",
    "We will load the data from a csv file. The data was generated using the `AGRAWAL` data generator with 3 **gradual drifts** at the 5k, 10k, and 15k marks. It contains 9 features, 6 numeric and 3 categorical.\n",
    "\n",
    "There are 10 functions for generating binary class labels from the features. These functions determine whether a **loan** should be approved.\n",
    "\n",
    "| Feature    | Description            | Values                                                                |\n",
    "|------------|------------------------|-----------------------------------------------------------------------|\n",
    "| `salary`     | salary                 | uniformly distributed from 20k to 150k                                |\n",
    "| `commission` | commission             | if (salary <   75k) then 0 else uniformly distributed from 10k to 75k |\n",
    "| `age`        | age                    | uniformly distributed from 20 to 80                                   |\n",
    "| `elevel`     | education level        | uniformly chosen from 0 to 4                                          |\n",
    "| `car`        | car maker              | uniformly chosen from 1 to 20                                         |\n",
    "| `zipcode`    | zip code of the town   | uniformly chosen from 0 to 8                                          |\n",
    "| `hvalue`     | value of the house     | uniformly distributed from 50k x zipcode to 100k x zipcode            |\n",
    "| `hyears`     | years house owned      | uniformly distributed from 1 to 30                                    |\n",
    "| `loan`       | total loan amount      | uniformly distributed from 0 to 500k                                  |\n",
    "\n",
    "**Class:** `y` | 0: no loan, 1: loan\n",
    " \n",
    "**Samples:** 20,000\n",
    "\n",
    "`elevel`, `car`, and `zipcode` are categorical features."
   ]
  },
  {
   "cell_type": "code",
   "execution_count": 3,
   "metadata": {},
   "outputs": [],
   "source": [
    "data = pd.read_csv(\"../datasets/agr_a_20k.csv\")\n",
    "features = data.columns[:-1]"
   ]
  },
  {
   "cell_type": "markdown",
   "metadata": {},
   "source": [
    "Since there are several drifts, to better track the model behaviour, let's use a [Rolling Window](https://riverml.xyz/0.10.1/api/metrics/Rolling/) to compute the performance. It is a fixed size wrapper for computing metrics ovear a window. When the window is full, the oldest element is removed. In this way, the performance refers to the most recent data, possibly affected by a concept drift"
   ]
  },
  {
   "cell_type": "markdown",
   "metadata": {},
   "source": [
    "## ADWIN Online Bagging\n",
    "\n",
    "---\n",
    "[ADWIN Online Bagging](https://riverml.xyz/0.10.1/api/ensemble/ADWINBaggingClassifier/) is the online bagging method with the addition of the ADWIN algorithm as a change detector. If concept drift is detected, the worst member of the ensemble (based on the error estimation by ADWIN) is replaced by a new (empty) classifier."
   ]
  },
  {
   "cell_type": "code",
   "execution_count": null,
   "metadata": {},
   "outputs": [],
   "source": [
    "from river.ensemble import ADWINBaggingClassifier\n",
    "from river.tree import HoeffdingTreeClassifier\n",
    "\n",
    "model = ADWINBaggingClassifier(model=HoeffdingTreeClassifier(nominal_attributes=['elevel', 'car', 'zipcode']),\n",
    "                          n_models=10,\n",
    "                          seed=42)\n",
    "#metrics = Metrics(metrics=[Accuracy(),BalancedAccuracy(),GeometricMean(),CohenKappa()])\n",
    "metrics = Rolling(metric=Metrics(metrics=[Accuracy(),BalancedAccuracy(),GeometricMean(),CohenKappa()]),window_size=500)\n",
    "stream = iter_pandas(X=data[features], y=data['class'])\n",
    "\n",
    "progressive_val_score(dataset=stream,\n",
    "                      model=model,\n",
    "                      metric=metrics,\n",
    "                      print_every=500)"
   ]
  },
  {
   "cell_type": "markdown",
   "metadata": {},
   "source": [
    "## Leveraging Bagging"
   ]
  },
  {
   "cell_type": "code",
   "execution_count": null,
   "metadata": {},
   "outputs": [],
   "source": [
    "from river.ensemble import LeveragingBaggingClassifier\n",
    "from river.tree import HoeffdingTreeClassifier\n",
    "\n",
    "model = LeveragingBaggingClassifier(model=HoeffdingTreeClassifier(nominal_attributes=['elevel', 'car', 'zipcode']),\n",
    "                          n_models=10,\n",
    "                          seed=42)\n",
    "#metrics = Metrics(metrics=[Accuracy(),BalancedAccuracy(),GeometricMean(),CohenKappa()])\n",
    "metrics = Rolling(metric=Metrics(metrics=[Accuracy(),BalancedAccuracy(),GeometricMean(),CohenKappa()]),window_size=500)\n",
    "stream = iter_pandas(X=data[features], y=data['class'])\n",
    "\n",
    "progressive_val_score(dataset=stream,\n",
    "                      model=model,\n",
    "                      metric=metrics,\n",
    "                      print_every=500)"
   ]
  },
  {
   "cell_type": "markdown",
   "metadata": {},
   "source": [
    "## AdaptiveRandomForest"
   ]
  },
  {
   "cell_type": "code",
   "execution_count": 4,
   "metadata": {},
   "outputs": [
    {
     "name": "stdout",
     "output_type": "stream",
     "text": [
      "[500] Accuracy: 65.53%, BalancedAccuracy: 57.43%, GeometricMean: 51.94%, CohenKappa: 16.11%\t(rolling 500)\n",
      "[1,000] Accuracy: 65.00%, BalancedAccuracy: 55.32%, GeometricMean: 47.22%, CohenKappa: 11.88%\t(rolling 500)\n",
      "[1,500] Accuracy: 70.60%, BalancedAccuracy: 63.23%, GeometricMean: 57.82%, CohenKappa: 29.21%\t(rolling 500)\n",
      "[2,000] Accuracy: 71.80%, BalancedAccuracy: 62.24%, GeometricMean: 54.59%, CohenKappa: 28.03%\t(rolling 500)\n",
      "[2,500] Accuracy: 72.00%, BalancedAccuracy: 61.90%, GeometricMean: 55.02%, CohenKappa: 27.07%\t(rolling 500)\n",
      "[3,000] Accuracy: 74.00%, BalancedAccuracy: 66.30%, GeometricMean: 62.11%, CohenKappa: 35.81%\t(rolling 500)\n",
      "[3,500] Accuracy: 77.80%, BalancedAccuracy: 68.47%, GeometricMean: 64.00%, CohenKappa: 41.49%\t(rolling 500)\n",
      "[4,000] Accuracy: 78.00%, BalancedAccuracy: 69.11%, GeometricMean: 64.74%, CohenKappa: 42.88%\t(rolling 500)\n",
      "[4,500] Accuracy: 72.60%, BalancedAccuracy: 63.67%, GeometricMean: 57.39%, CohenKappa: 30.86%\t(rolling 500)\n",
      "[5,000] Accuracy: 75.20%, BalancedAccuracy: 67.67%, GeometricMean: 63.35%, CohenKappa: 39.08%\t(rolling 500)\n",
      "[5,500] Accuracy: 45.60%, BalancedAccuracy: 50.40%, GeometricMean: 42.38%, CohenKappa: 0.71%\t(rolling 500)\n",
      "[6,000] Accuracy: 54.80%, BalancedAccuracy: 54.72%, GeometricMean: 54.71%, CohenKappa: 9.06%\t(rolling 500)\n",
      "[6,500] Accuracy: 58.00%, BalancedAccuracy: 54.29%, GeometricMean: 52.43%, CohenKappa: 8.67%\t(rolling 500)\n",
      "[7,000] Accuracy: 63.20%, BalancedAccuracy: 58.50%, GeometricMean: 54.30%, CohenKappa: 18.04%\t(rolling 500)\n",
      "[7,500] Accuracy: 60.00%, BalancedAccuracy: 54.41%, GeometricMean: 45.13%, CohenKappa: 9.62%\t(rolling 500)\n",
      "[8,000] Accuracy: 64.60%, BalancedAccuracy: 57.73%, GeometricMean: 50.90%, CohenKappa: 16.98%\t(rolling 500)\n",
      "[8,500] Accuracy: 64.20%, BalancedAccuracy: 57.80%, GeometricMean: 52.11%, CohenKappa: 16.91%\t(rolling 500)\n",
      "[9,000] Accuracy: 64.40%, BalancedAccuracy: 57.79%, GeometricMean: 51.49%, CohenKappa: 17.00%\t(rolling 500)\n",
      "[9,500] Accuracy: 59.80%, BalancedAccuracy: 54.03%, GeometricMean: 46.35%, CohenKappa: 8.74%\t(rolling 500)\n",
      "[10,000] Accuracy: 66.00%, BalancedAccuracy: 59.83%, GeometricMean: 52.86%, CohenKappa: 21.58%\t(rolling 500)\n",
      "[10,500] Accuracy: 41.20%, BalancedAccuracy: 49.14%, GeometricMean: 42.93%, CohenKappa: -1.32%\t(rolling 500)\n",
      "[11,000] Accuracy: 48.60%, BalancedAccuracy: 54.10%, GeometricMean: 51.56%, CohenKappa: 6.61%\t(rolling 500)\n",
      "[11,500] Accuracy: 58.00%, BalancedAccuracy: 60.62%, GeometricMean: 59.91%, CohenKappa: 18.86%\t(rolling 500)\n",
      "[12,000] Accuracy: 63.60%, BalancedAccuracy: 60.34%, GeometricMean: 59.50%, CohenKappa: 20.28%\t(rolling 500)\n",
      "[12,500] Accuracy: 65.00%, BalancedAccuracy: 58.83%, GeometricMean: 56.10%, CohenKappa: 18.15%\t(rolling 500)\n",
      "[13,000] Accuracy: 67.80%, BalancedAccuracy: 62.13%, GeometricMean: 59.85%, CohenKappa: 24.99%\t(rolling 500)\n",
      "[13,500] Accuracy: 71.80%, BalancedAccuracy: 66.16%, GeometricMean: 64.55%, CohenKappa: 32.74%\t(rolling 500)\n",
      "[14,000] Accuracy: 70.20%, BalancedAccuracy: 65.79%, GeometricMean: 64.62%, CohenKappa: 31.64%\t(rolling 500)\n",
      "[14,500] Accuracy: 73.40%, BalancedAccuracy: 67.94%, GeometricMean: 65.92%, CohenKappa: 37.50%\t(rolling 500)\n",
      "[15,000] Accuracy: 72.80%, BalancedAccuracy: 67.60%, GeometricMean: 65.35%, CohenKappa: 37.07%\t(rolling 500)\n",
      "[15,500] Accuracy: 49.80%, BalancedAccuracy: 54.61%, GeometricMean: 46.89%, CohenKappa: 8.19%\t(rolling 500)\n",
      "[16,000] Accuracy: 52.20%, BalancedAccuracy: 55.27%, GeometricMean: 52.90%, CohenKappa: 9.61%\t(rolling 500)\n",
      "[16,500] Accuracy: 62.20%, BalancedAccuracy: 61.93%, GeometricMean: 61.93%, CohenKappa: 22.41%\t(rolling 500)\n",
      "[17,000] Accuracy: 67.40%, BalancedAccuracy: 65.39%, GeometricMean: 64.87%, CohenKappa: 30.74%\t(rolling 500)\n",
      "[17,500] Accuracy: 67.00%, BalancedAccuracy: 65.06%, GeometricMean: 64.27%, CohenKappa: 30.53%\t(rolling 500)\n",
      "[18,000] Accuracy: 71.40%, BalancedAccuracy: 68.46%, GeometricMean: 67.49%, CohenKappa: 37.63%\t(rolling 500)\n",
      "[18,500] Accuracy: 70.60%, BalancedAccuracy: 68.27%, GeometricMean: 67.85%, CohenKappa: 36.00%\t(rolling 500)\n",
      "[19,000] Accuracy: 73.20%, BalancedAccuracy: 70.94%, GeometricMean: 70.21%, CohenKappa: 42.59%\t(rolling 500)\n",
      "[19,500] Accuracy: 71.20%, BalancedAccuracy: 68.63%, GeometricMean: 67.90%, CohenKappa: 37.68%\t(rolling 500)\n",
      "[20,000] Accuracy: 71.60%, BalancedAccuracy: 68.43%, GeometricMean: 67.09%, CohenKappa: 37.99%\t(rolling 500)\n"
     ]
    },
    {
     "data": {
      "text/plain": [
       "Accuracy: 71.60%, BalancedAccuracy: 68.43%, GeometricMean: 67.09%, CohenKappa: 37.99%\t(rolling 500)"
      ]
     },
     "execution_count": 4,
     "metadata": {},
     "output_type": "execute_result"
    }
   ],
   "source": [
    "from river.ensemble import AdaptiveRandomForestClassifier\n",
    "\n",
    "model = AdaptiveRandomForestClassifier(n_models=10,nominal_attributes=['elevel', 'car', 'zipcode'])\n",
    "#metrics = Metrics(metrics=[Accuracy(),BalancedAccuracy(),GeometricMean(),CohenKappa()])\n",
    "metrics = Rolling(metric=Metrics(metrics=[Accuracy(),BalancedAccuracy(),GeometricMean(),CohenKappa()]),window_size=500)\n",
    "stream = iter_pandas(X=data[features], y=data['class'])\n",
    "\n",
    "progressive_val_score(dataset=stream,\n",
    "                      model=model,\n",
    "                      metric=metrics,\n",
    "                      print_every=500)"
   ]
  },
  {
   "cell_type": "markdown",
   "metadata": {},
   "source": [
    "## StreamingRandomPatches\n",
    "---\n",
    "We set the drift and warning detection options"
   ]
  },
  {
   "cell_type": "code",
   "execution_count": null,
   "metadata": {},
   "outputs": [],
   "source": [
    "from river.ensemble import SRPClassifier\n",
    "from river.tree import HoeffdingTreeClassifier\n",
    "from river.drift import ADWIN\n",
    "\n",
    "model = SRPClassifier(model=HoeffdingTreeClassifier(nominal_attributes=['elevel', 'car', 'zipcode']),\n",
    "                      n_models=10,\n",
    "                      drift_detector=ADWIN(delta=0.001),\n",
    "                      warning_detector=ADWIN(delta=0.01),\n",
    "                      seed=42)\n",
    "#metrics = Metrics(metrics=[Accuracy(),BalancedAccuracy(),GeometricMean(),CohenKappa()])\n",
    "metrics = Rolling(metric=Metrics(metrics=[Accuracy(),BalancedAccuracy(),GeometricMean(),CohenKappa()]),window_size=500)\n",
    "stream = iter_pandas(X=data[features], y=data['class'])\n",
    "\n",
    "progressive_val_score(dataset=stream, \n",
    "                      model=model, \n",
    "                      metric=metrics, \n",
    "                      print_every=500)"
   ]
  }
 ],
 "metadata": {
  "kernelspec": {
   "display_name": "Python 3 (ipykernel)",
   "language": "python",
   "name": "python3"
  },
  "language_info": {
   "codemirror_mode": {
    "name": "ipython",
    "version": 3
   },
   "file_extension": ".py",
   "mimetype": "text/x-python",
   "name": "python",
   "nbconvert_exporter": "python",
   "pygments_lexer": "ipython3",
   "version": "3.11.3"
  }
 },
 "nbformat": 4,
 "nbformat_minor": 4
}
